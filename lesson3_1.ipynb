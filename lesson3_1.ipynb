{
 "cells": [
  {
   "cell_type": "code",
   "execution_count": null,
   "metadata": {},
   "outputs": [],
   "source": [
    "#total score is 300\n",
    "#some stduents plus 5%\n",
    "#if score is over 300, input 300\n",
    "scores=int(input(\"enter students' grade(highest 300):\")) #轉成int\n",
    "if scores<=300:\n",
    "    is_add=input(\"meet plus requirments?(y,n)\")\n",
    "    #nest judge\n",
    "    if is_add==\"y\":\n",
    "        scores *=1.05\n",
    "        if scores>300:\n",
    "            scores=300\n",
    "\n",
    "    print(f\"std's grade:{scores}\")\n",
    "else:\n",
    "    print(\"enetr wrong\")"
   ]
  },
  {
   "cell_type": "code",
   "execution_count": null,
   "metadata": {},
   "outputs": [],
   "source": []
  },
  {
   "cell_type": "markdown",
   "metadata": {},
   "source": []
  },
  {
   "cell_type": "markdown",
   "metadata": {},
   "source": []
  },
  {
   "cell_type": "markdown",
   "metadata": {},
   "source": []
  },
  {
   "cell_type": "code",
   "execution_count": null,
   "metadata": {},
   "outputs": [],
   "source": []
  }
 ],
 "metadata": {
  "language_info": {
   "name": "python"
  }
 },
 "nbformat": 4,
 "nbformat_minor": 2
}
